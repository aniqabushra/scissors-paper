{
 "cells": [
  {
   "cell_type": "markdown",
   "metadata": {},
   "source": [
    "Create a program where the user can play a game of rock, paper, scissors against a computer. Set a play choice (rock, paper, or scissors) for the computer player and during the program, request for the user to input their play choice.\n",
    "\n",
    "The rules in Rock, Paper, Scissors are:\n",
    "\n",
    "Rock beats scissors\n",
    "Scissors beats paper\n",
    "Paper beats rock\n",
    "If the user wins, then display \"You win!\" If they lose against the computer, then display \"You lose.\" If the computer and the user have the same play choice, display \"It's a draw.\"\n",
    "\n",
    "BONUS: Randomize the play choice for the computer (hint: Python has a library called random). Also ask the user if they would like to play again. If they do, start the game again but if not, thank the user for playing the game.\n",
    "\n"
   ]
  },
  {
   "cell_type": "code",
   "execution_count": 10,
   "metadata": {},
   "outputs": [
    {
     "name": "stdout",
     "output_type": "stream",
     "text": [
      "please enter your choiceSCISSORS\n"
     ]
    },
    {
     "ename": "NameError",
     "evalue": "name 'yrchoice' is not defined",
     "output_type": "error",
     "traceback": [
      "\u001b[1;31m---------------------------------------------------------------------------\u001b[0m",
      "\u001b[1;31mNameError\u001b[0m                                 Traceback (most recent call last)",
      "\u001b[1;32m<ipython-input-10-ee36ac662eb2>\u001b[0m in \u001b[0;36m<module>\u001b[1;34m\u001b[0m\n\u001b[0;32m      5\u001b[0m \u001b[1;32mwhile\u001b[0m \u001b[1;32mTrue\u001b[0m\u001b[1;33m:\u001b[0m\u001b[1;33m\u001b[0m\u001b[1;33m\u001b[0m\u001b[0m\n\u001b[0;32m      6\u001b[0m     \u001b[0mYOUR_CHOICE\u001b[0m\u001b[1;33m=\u001b[0m\u001b[0minput\u001b[0m\u001b[1;33m(\u001b[0m\u001b[1;34m'please enter your choice'\u001b[0m\u001b[1;33m)\u001b[0m\u001b[1;33m\u001b[0m\u001b[1;33m\u001b[0m\u001b[0m\n\u001b[1;32m----> 7\u001b[1;33m     \u001b[1;32mwhile\u001b[0m \u001b[0myrchoice\u001b[0m\u001b[1;33m!=\u001b[0m\u001b[1;34m'ROCK'\u001b[0m \u001b[1;32mand\u001b[0m \u001b[0myrchoice\u001b[0m\u001b[1;33m!=\u001b[0m\u001b[1;34m'PAPER'\u001b[0m \u001b[1;32mand\u001b[0m \u001b[0myrchoice\u001b[0m\u001b[1;33m!=\u001b[0m\u001b[1;34m'SCISSORS'\u001b[0m\u001b[1;33m:\u001b[0m\u001b[1;33m\u001b[0m\u001b[1;33m\u001b[0m\u001b[0m\n\u001b[0m\u001b[0;32m      8\u001b[0m         \u001b[0moptions\u001b[0m\u001b[1;33m=\u001b[0m\u001b[1;33m[\u001b[0m\u001b[1;34m'ROCK'\u001b[0m\u001b[1;33m,\u001b[0m\u001b[1;34m'PAPER'\u001b[0m\u001b[1;33m,\u001b[0m\u001b[1;34m'SCISSORS'\u001b[0m\u001b[1;33m]\u001b[0m\u001b[1;33m\u001b[0m\u001b[1;33m\u001b[0m\u001b[0m\n\u001b[0;32m      9\u001b[0m         \u001b[0mYOUR_CHOICE\u001b[0m\u001b[1;33m=\u001b[0m\u001b[0minput\u001b[0m\u001b[1;33m(\u001b[0m\u001b[1;34m'please enter a valid choice ROCK,PAPER OR SCISSORS'\u001b[0m\u001b[1;33m)\u001b[0m\u001b[1;33m\u001b[0m\u001b[1;33m\u001b[0m\u001b[0m\n",
      "\u001b[1;31mNameError\u001b[0m: name 'yrchoice' is not defined"
     ]
    }
   ],
   "source": [
    "import random\n",
    "'welcome to rock,paper and scissor'\n",
    "'please set a play choice'\n",
    "'ROCK,PAPER, SCISSORS'\n",
    "while True:\n",
    "    YOUR_CHOICE=input('please enter your choice')\n",
    "    while yrchoice!='ROCK' and yrchoice!='PAPER' and yrchoice!='SCISSORS':\n",
    "        options=['ROCK','PAPER','SCISSORS']\n",
    "        YOUR_CHOICE=input('please enter a valid choice ROCK,PAPER OR SCISSORS')\n",
    "        if YOUR_CHOICE=='ROCK':\n",
    "            print('rock beat scissors')\n",
    "        if YOUR_CHOICE=='PAPER':\n",
    "            print('Paper beats rock')\n",
    "        if YOUR_CHOICE=='SCISSORS':\n",
    "            print('Scissors beats paper')\n",
    "        print(YOUR_CHOICE)\n",
    "        OUR_CHOICE=randam.choice(options)\n",
    "        if OUR_CHOICE=='ROCK':\n",
    "            print('our is rock')\n",
    "        if OUR_CHOICE=='PAPER':\n",
    "            print('0urs is papaer')\n",
    "        if OUR_CHOICE=='SCISSORS':\n",
    "            print('our is s')\n",
    "        #winning condition\n",
    "        if YOUR_CHOICE==OUR_CHOICE:\n",
    "            print('its a draw')\n",
    "        if (OUR_CHOICE=='ROCK' or YOUR_CHOICE=='SCISSORS') and (OUR_CHOICE=='PAPER' or YOUR_CHOICE=='ROCK') and (OUR_CHOICE== 'SCISSORS' or YOUR_CHOICE=='PAPER'):\n",
    "                print('we win')\n",
    "        else:\n",
    "            print('you win')\n",
    "print('thanks for playing')\n",
    "        \n",
    "            \n",
    "    \n",
    "    \n",
    "    \n",
    "    \n"
   ]
  },
  {
   "cell_type": "code",
   "execution_count": null,
   "metadata": {},
   "outputs": [],
   "source": []
  }
 ],
 "metadata": {
  "kernelspec": {
   "display_name": "Python 3",
   "language": "python",
   "name": "python3"
  },
  "language_info": {
   "codemirror_mode": {
    "name": "ipython",
    "version": 3
   },
   "file_extension": ".py",
   "mimetype": "text/x-python",
   "name": "python",
   "nbconvert_exporter": "python",
   "pygments_lexer": "ipython3",
   "version": "3.7.3"
  }
 },
 "nbformat": 4,
 "nbformat_minor": 2
}
